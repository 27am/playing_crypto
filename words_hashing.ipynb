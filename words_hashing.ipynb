{
 "cells": [
  {
   "cell_type": "code",
   "execution_count": 40,
   "metadata": {},
   "outputs": [],
   "source": [
    "# imports\n",
    "import logging\n",
    "from Crypto.Hash import SHA256\n",
    "\n",
    "# getting the logger. we will output hashes there\n",
    "logger = logging.getLogger()\n",
    "logger.setLevel(logging.INFO)\n",
    "\n",
    "# give it a name a format it with just the message. we don't need timestamps etc\n",
    "handler = logging.FileHandler(\"dizionario_italiano_hashed.txt\")\n",
    "formatter = logging.Formatter(\"%(message)s\")\n",
    "\n",
    "handler.setFormatter(formatter)\n",
    "logger.addHandler(handler)"
   ]
  },
  {
   "cell_type": "code",
   "execution_count": 41,
   "metadata": {},
   "outputs": [],
   "source": [
    "with open(\"dizionario_italiano.txt\", \"r\") as dc:\n",
    "    for line in dc.readlines():\n",
    "        line = line.strip()\n",
    "        logger.info(\"{} : {}\".format(line, SHA256.new(data=line.encode(\"utf-8\")).hexdigest()))"
   ]
  },
  {
   "cell_type": "code",
   "execution_count": null,
   "metadata": {},
   "outputs": [],
   "source": []
  }
 ],
 "metadata": {
  "kernelspec": {
   "display_name": "Python 3",
   "language": "python",
   "name": "python3"
  },
  "language_info": {
   "codemirror_mode": {
    "name": "ipython",
    "version": 3
   },
   "file_extension": ".py",
   "mimetype": "text/x-python",
   "name": "python",
   "nbconvert_exporter": "python",
   "pygments_lexer": "ipython3",
   "version": "3.6.6"
  }
 },
 "nbformat": 4,
 "nbformat_minor": 2
}
